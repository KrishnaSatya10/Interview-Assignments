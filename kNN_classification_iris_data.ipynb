{
 "cells": [
  {
   "cell_type": "markdown",
   "metadata": {},
   "source": [
    "#### Importing packages and loading datasets"
   ]
  },
  {
   "cell_type": "code",
   "execution_count": 1,
   "metadata": {},
   "outputs": [],
   "source": [
    "#Import all the required libraries and packages\n",
    "import numpy as np\n",
    "import pandas as pd\n",
    "from sklearn.model_selection import train_test_split \n",
    "from sklearn.neighbors import KNeighborsClassifier \n",
    "from sklearn import metrics\n",
    "from matplotlib import pyplot as plt"
   ]
  },
  {
   "cell_type": "code",
   "execution_count": 2,
   "metadata": {},
   "outputs": [
    {
     "data": {
      "text/html": [
       "<div>\n",
       "<style scoped>\n",
       "    .dataframe tbody tr th:only-of-type {\n",
       "        vertical-align: middle;\n",
       "    }\n",
       "\n",
       "    .dataframe tbody tr th {\n",
       "        vertical-align: top;\n",
       "    }\n",
       "\n",
       "    .dataframe thead th {\n",
       "        text-align: right;\n",
       "    }\n",
       "</style>\n",
       "<table border=\"1\" class=\"dataframe\">\n",
       "  <thead>\n",
       "    <tr style=\"text-align: right;\">\n",
       "      <th></th>\n",
       "      <th>sepal_length</th>\n",
       "      <th>sepal_width</th>\n",
       "      <th>petal_length</th>\n",
       "      <th>petal_width</th>\n",
       "      <th>class</th>\n",
       "    </tr>\n",
       "  </thead>\n",
       "  <tbody>\n",
       "    <tr>\n",
       "      <th>0</th>\n",
       "      <td>5.1</td>\n",
       "      <td>3.5</td>\n",
       "      <td>1.4</td>\n",
       "      <td>0.2</td>\n",
       "      <td>Iris-setosa</td>\n",
       "    </tr>\n",
       "    <tr>\n",
       "      <th>1</th>\n",
       "      <td>4.9</td>\n",
       "      <td>3.0</td>\n",
       "      <td>1.4</td>\n",
       "      <td>0.2</td>\n",
       "      <td>Iris-setosa</td>\n",
       "    </tr>\n",
       "    <tr>\n",
       "      <th>2</th>\n",
       "      <td>4.7</td>\n",
       "      <td>3.2</td>\n",
       "      <td>1.3</td>\n",
       "      <td>0.2</td>\n",
       "      <td>Iris-setosa</td>\n",
       "    </tr>\n",
       "    <tr>\n",
       "      <th>3</th>\n",
       "      <td>4.6</td>\n",
       "      <td>3.1</td>\n",
       "      <td>1.5</td>\n",
       "      <td>0.2</td>\n",
       "      <td>Iris-setosa</td>\n",
       "    </tr>\n",
       "    <tr>\n",
       "      <th>4</th>\n",
       "      <td>5.0</td>\n",
       "      <td>3.6</td>\n",
       "      <td>1.4</td>\n",
       "      <td>0.2</td>\n",
       "      <td>Iris-setosa</td>\n",
       "    </tr>\n",
       "  </tbody>\n",
       "</table>\n",
       "</div>"
      ],
      "text/plain": [
       "   sepal_length  sepal_width  petal_length  petal_width        class\n",
       "0           5.1          3.5           1.4          0.2  Iris-setosa\n",
       "1           4.9          3.0           1.4          0.2  Iris-setosa\n",
       "2           4.7          3.2           1.3          0.2  Iris-setosa\n",
       "3           4.6          3.1           1.5          0.2  Iris-setosa\n",
       "4           5.0          3.6           1.4          0.2  Iris-setosa"
      ]
     },
     "execution_count": 2,
     "metadata": {},
     "output_type": "execute_result"
    }
   ],
   "source": [
    "#Read csv from folder (as imported)\n",
    "iris_dataset = pd.read_csv(\"iris.data\", header = None)\n",
    "iris_dataset.reset_index(drop = True)\n",
    "#Rename columns \n",
    "iris_dataset.columns = ['sepal_length','sepal_width','petal_length','petal_width','class']\n",
    "iris_dataset.head()"
   ]
  },
  {
   "cell_type": "code",
   "execution_count": 3,
   "metadata": {},
   "outputs": [],
   "source": [
    "#Split the dataset into feature set and labels. Last column of iris_dataset is the labael, which we stored in Y separately\n",
    "X = iris_dataset.iloc[:,:-1] \n",
    "Y = iris_dataset.iloc[:,4] "
   ]
  },
  {
   "cell_type": "markdown",
   "metadata": {},
   "source": [
    "#### Checks for null values and outliers and data distribution"
   ]
  },
  {
   "cell_type": "code",
   "execution_count": 4,
   "metadata": {},
   "outputs": [
    {
     "data": {
      "text/plain": [
       "sepal_length    0\n",
       "sepal_width     0\n",
       "petal_length    0\n",
       "petal_width     0\n",
       "dtype: int64"
      ]
     },
     "execution_count": 4,
     "metadata": {},
     "output_type": "execute_result"
    }
   ],
   "source": [
    "#Check if there are null values in the dataset. If yes, we my have to treat them\n",
    "X.isnull().values.any()\n",
    "X.isnull().sum(axis = 0)"
   ]
  },
  {
   "cell_type": "markdown",
   "metadata": {},
   "source": [
    "All our columns in the dataset are numerical variables. If there are categorical variables, we must convert them into dummy variable sets.Dummy variables are created in the following manner. If abc is a column with categorical variables in dataframe 'df'"
   ]
  },
  {
   "cell_type": "code",
   "execution_count": null,
   "metadata": {},
   "outputs": [],
   "source": [
    "#dummies_abc = pd.get_dummies(df['abc'])\n",
    "#df_with_dummies = pd.concat([df, dummies_abc], axis=1)      \n",
    "#df_with_dummies.drop(['abc', 'c'], inplace=True, axis=1)"
   ]
  },
  {
   "cell_type": "code",
   "execution_count": 5,
   "metadata": {},
   "outputs": [
    {
     "data": {
      "text/plain": [
       "Text(0,0.5,'Frequency')"
      ]
     },
     "execution_count": 5,
     "metadata": {},
     "output_type": "execute_result"
    },
    {
     "data": {
      "text/plain": [
       "<Figure size 1224x720 with 0 Axes>"
      ]
     },
     "metadata": {},
     "output_type": "display_data"
    },
    {
     "data": {
      "image/png": "[encoded data removed]",
      "text/plain": [
       "<Figure size 432x288 with 1 Axes>"
      ]
     },
     "metadata": {
      "needs_background": "light"
     },
     "output_type": "display_data"
    },
    {
     "data": {
      "text/plain": [
       "<Figure size 1224x720 with 0 Axes>"
      ]
     },
     "metadata": {},
     "output_type": "display_data"
    },
    {
     "data": {
      "image/png": "[encoded data removed]",
      "text/plain": [
       "<Figure size 432x288 with 1 Axes>"
      ]
     },
     "metadata": {
      "needs_background": "light"
     },
     "output_type": "display_data"
    },
    {
     "data": {
      "text/plain": [
       "<Figure size 1224x720 with 0 Axes>"
      ]
     },
     "metadata": {},
     "output_type": "display_data"
    },
    {
     "data": {
      "image/png": "[encoded data removed]",
      "text/plain": [
       "<Figure size 432x288 with 1 Axes>"
      ]
     },
     "metadata": {
      "needs_background": "light"
     },
     "output_type": "display_data"
    },
    {
     "data": {
      "text/plain": [
       "<Figure size 1224x720 with 0 Axes>"
      ]
     },
     "metadata": {},
     "output_type": "display_data"
    },
    {
     "data": {
      "image/png": "[encoded data removed]",
      "text/plain": [
       "<Figure size 432x288 with 1 Axes>"
      ]
     },
     "metadata": {
      "needs_background": "light"
     },
     "output_type": "display_data"
    }
   ],
   "source": [
    "#Check if there are an outliers in each column. If yes, we may need to treat it\n",
    "fig = plt.figure(figsize = (17,10))\n",
    "X.hist(column = \"sepal_length\")\n",
    "plt.xlabel(\"sepal_length\",fontsize = 15)\n",
    "plt.ylabel(\"Frequency\",fontsize = 15)\n",
    "\n",
    "fig = plt.figure(figsize = (17,10))\n",
    "X.hist(column = \"petal_length\")\n",
    "plt.xlabel(\"petal_length\",fontsize = 15)\n",
    "plt.ylabel(\"Frequency\",fontsize = 15)\n",
    "\n",
    "fig = plt.figure(figsize = (17,10))\n",
    "X.hist(column = \"sepal_width\")\n",
    "plt.xlabel(\"sepal_width\",fontsize = 15)\n",
    "plt.ylabel(\"Frequency\",fontsize = 15)\n",
    "\n",
    "fig = plt.figure(figsize = (17,10))\n",
    "X.hist(column = \"petal_width\")\n",
    "plt.xlabel(\"petal_width\",fontsize = 15)\n",
    "plt.ylabel(\"Frequency\",fontsize = 15)"
   ]
  },
  {
   "cell_type": "markdown",
   "metadata": {},
   "source": [
    "#### Designing train-test sets and model building"
   ]
  },
  {
   "cell_type": "code",
   "execution_count": 6,
   "metadata": {},
   "outputs": [
    {
     "name": "stdout",
     "output_type": "stream",
     "text": [
      "Dataset contains 150 elements\n",
      "Training set contains 120 elements\n",
      "Test set contains 30 elements\n"
     ]
    }
   ],
   "source": [
    "# There are no outlies. Hence, split the dataset into training and testing sets\n",
    "X_train, X_test, Y_train, Y_test = train_test_split(X, Y, test_size = 0.20)\n",
    "print(\"Dataset contains \" + str(len(iris_dataset)) + \" elements\")\n",
    "print(\"Training set contains \" + str(len(X_train)) + \" elements\")\n",
    "print(\"Test set contains \" + str(len(X_test)) + \" elements\") "
   ]
  },
  {
   "cell_type": "code",
   "execution_count": 7,
   "metadata": {},
   "outputs": [
    {
     "data": {
      "text/plain": [
       "KNeighborsClassifier(algorithm='auto', leaf_size=30, metric='minkowski',\n",
       "           metric_params=None, n_jobs=1, n_neighbors=3, p=2,\n",
       "           weights='distance')"
      ]
     },
     "execution_count": 7,
     "metadata": {},
     "output_type": "execute_result"
    }
   ],
   "source": [
    "#Training the model on train set\n",
    "model = KNeighborsClassifier(n_neighbors = 3, weights = 'distance', p = 2)  \n",
    "model.fit(X_train, Y_train)"
   ]
  },
  {
   "cell_type": "markdown",
   "metadata": {},
   "source": [
    "Since this model depends on distance between neighboring points for deciding on class, we have a choice to determine which distance to consider ('p' is the parameter in the formula). The distance may be euclidien, minkowski, manhattan, etc. By default, p=2, which is euclidien distance. \n",
    "Weights may be uniform, or inversely proportional to distance. This can be configured using 'weights' parameter in the formula. By default, it is uniform. I wanted to assign penalize the model by assigning lower weights to larger distances.  "
   ]
  },
  {
   "cell_type": "code",
   "execution_count": 8,
   "metadata": {},
   "outputs": [
    {
     "name": "stdout",
     "output_type": "stream",
     "text": [
      "Accuracy for 3 nearest neighbor: 0.9666666666666667\n"
     ]
    }
   ],
   "source": [
    "#Testing the model with learned parameters on test set\n",
    "Y_predict = model.predict(X_test)  \n",
    "# Check accuracy\n",
    "accuracy = metrics.accuracy_score(Y_test, Y_predict)\n",
    "print(\"Accuracy for 3 nearest neighbor:\",accuracy)"
   ]
  },
  {
   "cell_type": "code",
   "execution_count": 9,
   "metadata": {},
   "outputs": [
    {
     "data": {
      "text/plain": [
       "Text(0,0.5,'Mean Error')"
      ]
     },
     "execution_count": 9,
     "metadata": {},
     "output_type": "execute_result"
    },
    {
     "data": {
      "image/png": "[encoded data removed]",
      "text/plain": [
       "<Figure size 1224x720 with 1 Axes>"
      ]
     },
     "metadata": {
      "needs_background": "light"
     },
     "output_type": "display_data"
    }
   ],
   "source": [
    "#Checking for optimal number of nearest neighbors\n",
    "error_rate = []\n",
    "\n",
    "# Calculating error for vaaues of k between 1 and 9\n",
    "for i in range(1, 10):  \n",
    "    optimal_model = KNeighborsClassifier(n_neighbors = i, weights = 'distance',p = 2)\n",
    "    optimal_model.fit(X_train, Y_train)\n",
    "    Y_predict_i = optimal_model.predict(X_test)\n",
    "    error_rate.append(np.mean(Y_predict_i != Y_test))\n",
    "    \n",
    "plt.figure(figsize = (17, 10))  \n",
    "plt.plot(range(1, 10), error_rate, color = 'blue', marker = 'o',markersize = 4)\n",
    "plt.title('Error Rate')  \n",
    "plt.xlabel('K Value')  \n",
    "plt.ylabel('Mean Error')  "
   ]
  },
  {
   "cell_type": "markdown",
   "metadata": {},
   "source": [
    "### Note: \n",
    "This dataset is a small, clean dataset. Only 120 samples are used for training.Hence, the selection of k also largely depends on train test datasets.This the vallue of k is fluctuating a lot (5,6,7..), yielding random results.But as we move to bigger datasets,k will depend very less on test train splits and more on the nature of data itself.Test data would also consitutte usually 5% of data. Hence, selecting optimal value of \"k\" makes more sense in such cases. Code for selecting optimal 'k' has been written here for illustration purposes only\n"
   ]
  },
  {
   "cell_type": "code",
   "execution_count": 10,
   "metadata": {},
   "outputs": [
    {
     "name": "stdout",
     "output_type": "stream",
     "text": [
      "Accuracy for 7 nearest neighbors: 0.9666666666666667\n"
     ]
    }
   ],
   "source": [
    "# Optimal number of nearest neighbors is '5'. Training the model on train set for k='5'\n",
    "model = KNeighborsClassifier(n_neighbors = 5, weights = 'distance',p = 2)  \n",
    "model.fit(X_train, Y_train)\n",
    "\n",
    "#Testing the model with learned parameters on test set\n",
    "Y_predict = model.predict(X_test)\n",
    "\n",
    "# Check accuracy\n",
    "accuracy = metrics.accuracy_score(Y_test, Y_predict)\n",
    "print(\"Accuracy for 7 nearest neighbors:\",accuracy)\n"
   ]
  },
  {
   "cell_type": "markdown",
   "metadata": {},
   "source": [
    "#### Data visualization"
   ]
  },
  {
   "cell_type": "code",
   "execution_count": 11,
   "metadata": {},
   "outputs": [
    {
     "data": {
      "text/plain": [
       "64    2\n",
       "55    2\n",
       "60    2\n",
       "78    2\n",
       "56    2\n",
       "Name: class, dtype: int64"
      ]
     },
     "execution_count": 11,
     "metadata": {},
     "output_type": "execute_result"
    }
   ],
   "source": [
    "#Scatter requires that the categorical labels are in numeric form. This is given as an input to plt.scatter. Hence, for puposes of plotting, we are converting our labels to numbers. \n",
    "label_numbers = {\"Iris-setosa\": 1, \"Iris-versicolor\": 2, \"Iris-virginica\": 3}\n",
    "#To convert the columns to numbers using replace :\n",
    "Y_test.replace(label_numbers, inplace = True)\n",
    "Y_test.head()"
   ]
  },
  {
   "cell_type": "code",
   "execution_count": 13,
   "metadata": {},
   "outputs": [
    {
     "data": {
      "image/png": "[encoded data removed]",
      "text/plain": [
       "<Figure size 432x288 with 1 Axes>"
      ]
     },
     "metadata": {
      "needs_background": "light"
     },
     "output_type": "display_data"
    }
   ],
   "source": [
    "#Plotting the scatter plor for test data only\n",
    "plt.scatter(X_test.values[:, 2], X_test.values[:, 3], c = Y_test)\n",
    "plt.title(\"3-Class classification with 5 neighbors\")\n",
    "plt.show()"
   ]
  }
 ],
 "metadata": {
  "kernelspec": {
   "display_name": "Python 3",
   "language": "python",
   "name": "python3"
  },
  "language_info": {
   "codemirror_mode": {
    "name": "ipython",
    "version": 3
   },
   "file_extension": ".py",
   "mimetype": "text/x-python",
   "name": "python",
   "nbconvert_exporter": "python",
   "pygments_lexer": "ipython3",
   "version": "3.7.0"
  }
 },
 "nbformat": 4,
 "nbformat_minor": 2
}
